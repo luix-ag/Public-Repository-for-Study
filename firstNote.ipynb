{
 "cells": [
  {
   "cell_type": "code",
   "execution_count": 1,
   "id": "9e115134-b319-4ba5-93c8-eb6b607c172f",
   "metadata": {},
   "outputs": [
    {
     "data": {
      "text/plain": [
       "2"
      ]
     },
     "execution_count": 1,
     "metadata": {},
     "output_type": "execute_result"
    }
   ],
   "source": [
    "1 + 1"
   ]
  },
  {
   "cell_type": "code",
   "execution_count": 4,
   "id": "87ceb01d-7373-4ca4-8e42-b92eb7a1117e",
   "metadata": {},
   "outputs": [
    {
     "data": {
      "text/plain": [
       "0"
      ]
     },
     "execution_count": 4,
     "metadata": {},
     "output_type": "execute_result"
    }
   ],
   "source": [
    "25 - 5 * 5"
   ]
  },
  {
   "cell_type": "code",
   "execution_count": 6,
   "id": "ab4893d2-e8af-4a96-a8c3-b9ebb1e0f08e",
   "metadata": {},
   "outputs": [
    {
     "name": "stdout",
     "output_type": "stream",
     "text": [
      "Hello World!\n"
     ]
    }
   ],
   "source": [
    "print(\"Hello World!\")"
   ]
  },
  {
   "cell_type": "markdown",
   "id": "4794119e-78f7-4119-9d70-1e4f752fc5a3",
   "metadata": {
    "tags": []
   },
   "source": [
    "## My Title\n",
    "My first note in Jupyter."
   ]
  },
  {
   "cell_type": "code",
   "execution_count": null,
   "id": "2f6c9719-7273-4d36-a33f-f3fcd60fba54",
   "metadata": {},
   "outputs": [],
   "source": []
  }
 ],
 "metadata": {
  "kernelspec": {
   "display_name": "Python",
   "language": "python",
   "name": "conda-env-python-py"
  },
  "language_info": {
   "codemirror_mode": {
    "name": "ipython",
    "version": 3
   },
   "file_extension": ".py",
   "mimetype": "text/x-python",
   "name": "python",
   "nbconvert_exporter": "python",
   "pygments_lexer": "ipython3",
   "version": "3.7.12"
  }
 },
 "nbformat": 4,
 "nbformat_minor": 5
}
